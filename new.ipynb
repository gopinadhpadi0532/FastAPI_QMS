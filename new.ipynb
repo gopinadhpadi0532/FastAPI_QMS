{
 "cells": [
  {
   "cell_type": "code",
   "execution_count": 20,
   "id": "8d9c282b",
   "metadata": {},
   "outputs": [
    {
     "name": "stdout",
     "output_type": "stream",
     "text": [
      "Hello, World!\n"
     ]
    }
   ],
   "source": [
    "def reverse_string(s):\n",
    "    return s[::-1][::-1]\n",
    "\n",
    "print(reverse_string(\"Hello, World!\"))\n"
   ]
  },
  {
   "cell_type": "code",
   "execution_count": 21,
   "id": "f6b9387e",
   "metadata": {},
   "outputs": [
    {
     "name": "stdout",
     "output_type": "stream",
     "text": [
      "15\n"
     ]
    }
   ],
   "source": [
    "def sum_list(numbers):\n",
    "    return sum(numbers) \n",
    "    \n",
    "print(sum_list([1, 2, 3, 4, 5]))"
   ]
  },
  {
   "cell_type": "code",
   "execution_count": 23,
   "id": "f59e5911",
   "metadata": {},
   "outputs": [
    {
     "name": "stdout",
     "output_type": "stream",
     "text": [
      "Odd\n"
     ]
    }
   ],
   "source": [
    "def check_even_odd(number):\n",
    "    return \"Even\" if number % 2 == 0 else \"Odd\"\n",
    "\n",
    "print(check_even_odd(11))"
   ]
  },
  {
   "cell_type": "code",
   "execution_count": 32,
   "id": "23dd635a",
   "metadata": {},
   "outputs": [
    {
     "name": "stdout",
     "output_type": "stream",
     "text": [
      "720\n"
     ]
    }
   ],
   "source": [
    "def factorial(n):\n",
    "    if n == 0 or n == 1:\n",
    "        return 1\n",
    "    else:\n",
    "        return n * factorial(n - 1) \n",
    "\n",
    "print(factorial(6))"
   ]
  },
  {
   "cell_type": "code",
   "execution_count": 44,
   "id": "9232c44b",
   "metadata": {},
   "outputs": [
    {
     "name": "stdout",
     "output_type": "stream",
     "text": [
      "<reversed object at 0x000001E723225090>\n"
     ]
    }
   ],
   "source": [
    "\n",
    "def reverse_string_join_reversed(s):\n",
    "    \n",
    "    return \"\".join(reversed(s))\n",
    "\n",
    "\n",
    "\n",
    "print (reversed(\"Hello, World!\"))"
   ]
  },
  {
   "cell_type": "code",
   "execution_count": 48,
   "id": "0b7c7a6b",
   "metadata": {},
   "outputs": [
    {
     "name": "stdout",
     "output_type": "stream",
     "text": [
      "15\n"
     ]
    }
   ],
   "source": [
    "def sum_list_loop(numbers):\n",
    "\n",
    "    l=len(numbers) # Get the length of the list\n",
    "    \n",
    "    total = 0 # Initialize a variable to keep track of the sum\n",
    "    for num in range(l):\n",
    "        total = total + numbers[num] # Add each number to the total\n",
    "    return total\n",
    "\n",
    "print(sum_list_loop([1, 2, 3, 4, 5]))"
   ]
  },
  {
   "cell_type": "code",
   "execution_count": 50,
   "id": "faa60233",
   "metadata": {},
   "outputs": [
    {
     "name": "stdout",
     "output_type": "stream",
     "text": [
      "   Loop: 'hello' -> 2\n",
      "   Loop: 'Programming' -> 3\n",
      "   Comprehension: 'hello' -> 2\n",
      "   Regex: 'Programming' -> 3\n"
     ]
    }
   ],
   "source": [
    "\n",
    "def count_vowels_loop(s):\n",
    "    \n",
    "    vowels = \"aeiou\" # Define our vowels\n",
    "    count = 0\n",
    "    for char in s:\n",
    "        if char.lower() in vowels: # Convert character to lowercase before checking\n",
    "            count += 1 # count = count + 1\n",
    "    return count\n",
    "\n",
    "\n",
    "def count_vowels_comprehension(s):\n",
    "    \n",
    "    vowels = \"aeiou\"\n",
    "    # Create a list of 1s for each vowel found, then sum them up\n",
    "    return sum(1 for char in s if char.lower() in vowels)\n",
    "\n",
    "# --- Solution 3: Using Regular Expressions (Powerful, but a bit more advanced) ---\n",
    "import re # Import the regular expression module\n",
    "\n",
    "def count_vowels_regex(s):\n",
    "\n",
    "    matches = re.findall(r'[aeiou]', s, re.IGNORECASE)\n",
    "    return len(matches)\n",
    "\n",
    "# --- Testing the functions ---\n",
    "\n",
    "print(f\"   Loop: 'hello' -> {count_vowels_loop('hello')}\")\n",
    "print(f\"   Loop: 'Programming' -> {count_vowels_loop('Programming')}\") # O, a, i\n",
    "print(f\"   Comprehension: 'hello' -> {count_vowels_comprehension('hello')}\")\n",
    "print(f\"   Regex: 'Programming' -> {count_vowels_regex('Programming')}\")\n"
   ]
  },
  {
   "cell_type": "code",
   "execution_count": 3,
   "id": "f3c5e051",
   "metadata": {},
   "outputs": [
    {
     "name": "stdout",
     "output_type": "stream",
     "text": [
      "[1, 2, 9, 4]\n"
     ]
    }
   ],
   "source": [
    "def square_odds(numbers):\n",
    "    result = []\n",
    "    for num in numbers:\n",
    "        if num % 2 != 0: # If the number is odd\n",
    "            result.append(num**2) # Add its square\n",
    "        else: # If the number is even\n",
    "            result.append(num) # Add the number as is\n",
    "    return result\n",
    "\n",
    "# --- Testing the functions ---\n",
    "print(square_odds([1, 2, 3, 4]))"
   ]
  },
  {
   "cell_type": "code",
   "execution_count": 10,
   "id": "28fb12e9",
   "metadata": {},
   "outputs": [
    {
     "name": "stdout",
     "output_type": "stream",
     "text": [
      "a2a2b4b4b4e1d1b4\n"
     ]
    }
   ],
   "source": [
    "# to get result \"a2b4e1d1\"\n",
    "def fun(s):\n",
    "    result = []\n",
    "    for char in s:\n",
    "        if char.isalpha():  # Check if the character is a letter\n",
    "            result.append(char + str(s.count(char)))  # Append the character and its count\n",
    "    return ''.join(result)  # Join the list into a string\n",
    "    \n",
    "    \n",
    "print(fun(\"aabbbedb\"))"
   ]
  }
 ],
 "metadata": {
  "kernelspec": {
   "display_name": "base",
   "language": "python",
   "name": "python3"
  },
  "language_info": {
   "codemirror_mode": {
    "name": "ipython",
    "version": 3
   },
   "file_extension": ".py",
   "mimetype": "text/x-python",
   "name": "python",
   "nbconvert_exporter": "python",
   "pygments_lexer": "ipython3",
   "version": "3.12.4"
  }
 },
 "nbformat": 4,
 "nbformat_minor": 5
}
